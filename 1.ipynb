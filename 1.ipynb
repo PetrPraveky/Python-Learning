{
 "metadata": {
  "language_info": {
   "codemirror_mode": {
    "name": "ipython",
    "version": 3
   },
   "file_extension": ".py",
   "mimetype": "text/x-python",
   "name": "python",
   "nbconvert_exporter": "python",
   "pygments_lexer": "ipython3",
   "version": "3.9.2"
  },
  "orig_nbformat": 2,
  "kernelspec": {
   "name": "python392jvsc74a57bd0a662ee7c935ffc89efabe02fc84ce4e5e7ff3982dfcf536703824cc67d56b2b0",
   "display_name": "Python 3.9.2 64-bit"
  },
  "metadata": {
   "interpreter": {
    "hash": "a662ee7c935ffc89efabe02fc84ce4e5e7ff3982dfcf536703824cc67d56b2b0"
   }
  }
 },
 "nbformat": 4,
 "nbformat_minor": 2,
 "cells": [
  {
   "cell_type": "code",
   "execution_count": 1,
   "metadata": {},
   "outputs": [],
   "source": [
    "from sympy import *"
   ]
  },
  {
   "cell_type": "code",
   "execution_count": 2,
   "metadata": {},
   "outputs": [],
   "source": [
    "x = symbols('x')"
   ]
  },
  {
   "cell_type": "code",
   "execution_count": 14,
   "metadata": {},
   "outputs": [
    {
     "output_type": "stream",
     "name": "stderr",
     "text": [
      "C:\\Users\\mrpar\\AppData\\Roaming\\Python\\Python39\\site-packages\\IPython\\lib\\latextools.py:126: MatplotlibDeprecationWarning: \nThe to_png function was deprecated in Matplotlib 3.4 and will be removed two minor releases later. Use mathtext.math_to_image instead.\n  mt.to_png(f, s, fontsize=12, dpi=dpi, color=color)\nC:\\Users\\mrpar\\AppData\\Roaming\\Python\\Python39\\site-packages\\IPython\\lib\\latextools.py:126: MatplotlibDeprecationWarning: \nThe to_rgba function was deprecated in Matplotlib 3.4 and will be removed two minor releases later. Use mathtext.math_to_image instead.\n  mt.to_png(f, s, fontsize=12, dpi=dpi, color=color)\nC:\\Users\\mrpar\\AppData\\Roaming\\Python\\Python39\\site-packages\\IPython\\lib\\latextools.py:126: MatplotlibDeprecationWarning: \nThe to_mask function was deprecated in Matplotlib 3.4 and will be removed two minor releases later. Use mathtext.math_to_image instead.\n  mt.to_png(f, s, fontsize=12, dpi=dpi, color=color)\nC:\\Users\\mrpar\\AppData\\Roaming\\Python\\Python39\\site-packages\\IPython\\lib\\latextools.py:126: MatplotlibDeprecationWarning: \nThe MathtextBackendBitmap class was deprecated in Matplotlib 3.4 and will be removed two minor releases later. Use mathtext.math_to_image instead.\n  mt.to_png(f, s, fontsize=12, dpi=dpi, color=color)\n"
     ]
    },
    {
     "output_type": "execute_result",
     "data": {
      "text/plain": [
       "1/2"
      ],
      "image/png": "[encoded data removed]",
      "text/latex": "$\\displaystyle \\frac{1}{2}$"
     },
     "metadata": {},
     "execution_count": 14
    }
   ],
   "source": [
    "deg = rad(30)\n",
    "parse_expr(\"sin({})\".format(deg))"
   ]
  },
  {
   "cell_type": "code",
   "execution_count": null,
   "metadata": {},
   "outputs": [],
   "source": []
  }
 ]
}